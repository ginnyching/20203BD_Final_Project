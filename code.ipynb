{
 "cells": [
  {
   "cell_type": "code",
   "execution_count": 1,
   "metadata": {},
   "outputs": [],
   "source": [
    "import pyspark\n",
    "from pyspark.sql import SparkSession\n",
    "from pyspark.sql.functions import *\n",
    "spark = SparkSession.builder.appName('DB').getOrCreate()"
   ]
  },
  {
   "cell_type": "code",
   "execution_count": 2,
   "metadata": {},
   "outputs": [
    {
     "data": {
      "text/html": [
       "\n",
       "            <div>\n",
       "                <p><b>SparkSession - in-memory</b></p>\n",
       "                \n",
       "        <div>\n",
       "            <p><b>SparkContext</b></p>\n",
       "\n",
       "            <p><a href=\"http://LAPTOP-3ULUJLMD:4040\">Spark UI</a></p>\n",
       "\n",
       "            <dl>\n",
       "              <dt>Version</dt>\n",
       "                <dd><code>v3.3.2</code></dd>\n",
       "              <dt>Master</dt>\n",
       "                <dd><code>local[*]</code></dd>\n",
       "              <dt>AppName</dt>\n",
       "                <dd><code>DB</code></dd>\n",
       "            </dl>\n",
       "        </div>\n",
       "        \n",
       "            </div>\n",
       "        "
      ],
      "text/plain": [
       "<pyspark.sql.session.SparkSession at 0x2884a5aee90>"
      ]
     },
     "execution_count": 2,
     "metadata": {},
     "output_type": "execute_result"
    }
   ],
   "source": [
    "spark"
   ]
  },
  {
   "cell_type": "code",
   "execution_count": 4,
   "metadata": {},
   "outputs": [],
   "source": [
    "import os\n",
    "import sys\n",
    "\n",
    "os.environ['PYSPARK_PYTHON'] = sys.executable\n",
    "os.environ['PYSPARK_DRIVER_PYTHON'] = sys.executable\n",
    "os.environ[\"JAVA_HOME\"] =\"C:\\Program Files\\Java\\jdk-17\""
   ]
  },
  {
   "cell_type": "code",
   "execution_count": 3,
   "metadata": {},
   "outputs": [],
   "source": [
    "taxi= spark.read\\\n",
    "      .option(\"header\", \"true\")\\\n",
    "      .option(\"inferSchema\", \"true\")\\\n",
    "      .parquet(\"C:/Users/ginny/OneDrive/桌面/Data Base/2023DB_Final_Project/yellow_tripdata_2022/yellow_tripdata_2022-01.parquet\",\\\n",
    "                \"C:/Users/ginny/OneDrive/桌面/Data Base/2023DB_Final_Project/yellow_tripdata_2022/yellow_tripdata_2022-02.parquet\",\\\n",
    "                \"C:/Users/ginny/OneDrive/桌面/Data Base/2023DB_Final_Project/yellow_tripdata_2022/yellow_tripdata_2022-03.parquet\",\\\n",
    "                \"C:/Users/ginny/OneDrive/桌面/Data Base/2023DB_Final_Project/yellow_tripdata_2022/yellow_tripdata_2022-04.parquet\",\\\n",
    "                \"C:/Users/ginny/OneDrive/桌面/Data Base/2023DB_Final_Project/yellow_tripdata_2022/yellow_tripdata_2022-05.parquet\",\\\n",
    "                \"C:/Users/ginny/OneDrive/桌面/Data Base/2023DB_Final_Project/yellow_tripdata_2022/yellow_tripdata_2022-06.parquet\",\\\n",
    "                \"C:/Users/ginny/OneDrive/桌面/Data Base/2023DB_Final_Project/yellow_tripdata_2022/yellow_tripdata_2022-07.parquet\",\\\n",
    "                \"C:/Users/ginny/OneDrive/桌面/Data Base/2023DB_Final_Project/yellow_tripdata_2022/yellow_tripdata_2022-08.parquet\",\\\n",
    "                \"C:/Users/ginny/OneDrive/桌面/Data Base/2023DB_Final_Project/yellow_tripdata_2022/yellow_tripdata_2022-09.parquet\",\\\n",
    "                \"C:/Users/ginny/OneDrive/桌面/Data Base/2023DB_Final_Project/yellow_tripdata_2022/yellow_tripdata_2022-10.parquet\",\\\n",
    "                \"C:/Users/ginny/OneDrive/桌面/Data Base/2023DB_Final_Project/yellow_tripdata_2022/yellow_tripdata_2022-11.parquet\",\\\n",
    "                \"C:/Users/ginny/OneDrive/桌面/Data Base/2023DB_Final_Project/yellow_tripdata_2022/yellow_tripdata_2022-12.parquet\")"
   ]
  },
  {
   "cell_type": "code",
   "execution_count": 4,
   "metadata": {},
   "outputs": [
    {
     "name": "stdout",
     "output_type": "stream",
     "text": [
      "root\n",
      " |-- VendorID: long (nullable = true)\n",
      " |-- tpep_pickup_datetime: timestamp (nullable = true)\n",
      " |-- tpep_dropoff_datetime: timestamp (nullable = true)\n",
      " |-- passenger_count: double (nullable = true)\n",
      " |-- trip_distance: double (nullable = true)\n",
      " |-- RatecodeID: double (nullable = true)\n",
      " |-- store_and_fwd_flag: string (nullable = true)\n",
      " |-- PULocationID: long (nullable = true)\n",
      " |-- DOLocationID: long (nullable = true)\n",
      " |-- payment_type: long (nullable = true)\n",
      " |-- fare_amount: double (nullable = true)\n",
      " |-- extra: double (nullable = true)\n",
      " |-- mta_tax: double (nullable = true)\n",
      " |-- tip_amount: double (nullable = true)\n",
      " |-- tolls_amount: double (nullable = true)\n",
      " |-- improvement_surcharge: double (nullable = true)\n",
      " |-- total_amount: double (nullable = true)\n",
      " |-- congestion_surcharge: double (nullable = true)\n",
      " |-- airport_fee: double (nullable = true)\n",
      "\n"
     ]
    }
   ],
   "source": [
    "taxi.printSchema()"
   ]
  },
  {
   "cell_type": "code",
   "execution_count": 5,
   "metadata": {},
   "outputs": [
    {
     "name": "stdout",
     "output_type": "stream",
     "text": [
      "+--------+--------------------+---------------------+---------------+-------------+----------+------------------+------------+------------+------------+-----------+-----+-------+----------+------------+---------------------+------------+--------------------+-----------+\n",
      "|VendorID|tpep_pickup_datetime|tpep_dropoff_datetime|passenger_count|trip_distance|RatecodeID|store_and_fwd_flag|PULocationID|DOLocationID|payment_type|fare_amount|extra|mta_tax|tip_amount|tolls_amount|improvement_surcharge|total_amount|congestion_surcharge|airport_fee|\n",
      "+--------+--------------------+---------------------+---------------+-------------+----------+------------------+------------+------------+------------+-----------+-----+-------+----------+------------+---------------------+------------+--------------------+-----------+\n",
      "|       1| 2022-02-01 08:06:58|  2022-02-01 08:19:24|            1.0|          5.4|       1.0|                 N|         138|         252|           1|       17.0| 1.75|    0.5|       3.9|         0.0|                  0.3|       23.45|                 0.0|       1.25|\n",
      "|       1| 2022-02-01 08:38:22|  2022-02-01 08:55:55|            1.0|          6.4|       1.0|                 N|         138|          41|           2|       21.0| 1.75|    0.5|       0.0|        6.55|                  0.3|        30.1|                 0.0|       1.25|\n",
      "|       1| 2022-02-01 08:03:20|  2022-02-01 08:26:59|            1.0|         12.5|       1.0|                 N|         138|         200|           2|       35.5| 1.75|    0.5|       0.0|        6.55|                  0.3|        44.6|                 0.0|       1.25|\n",
      "|       2| 2022-02-01 08:08:00|  2022-02-01 08:28:05|            1.0|         9.88|       1.0|                 N|         239|         200|           2|       28.0|  0.5|    0.5|       0.0|         3.0|                  0.3|        34.8|                 2.5|        0.0|\n",
      "|       2| 2022-02-01 08:06:48|  2022-02-01 08:33:07|            1.0|        12.16|       1.0|                 N|         138|         125|           1|       35.5|  0.5|    0.5|      8.11|         0.0|                  0.3|       48.66|                 2.5|       1.25|\n",
      "+--------+--------------------+---------------------+---------------+-------------+----------+------------------+------------+------------+------------+-----------+-----+-------+----------+------------+---------------------+------------+--------------------+-----------+\n",
      "only showing top 5 rows\n",
      "\n"
     ]
    }
   ],
   "source": [
    "taxi.show(5)"
   ]
  },
  {
   "cell_type": "code",
   "execution_count": 13,
   "metadata": {},
   "outputs": [],
   "source": [
    "pickup_hour=taxi.select(hour(col(\"tpep_pickup_datetime\")).alias(\"hour\"),\\\n",
    "                        month(col(\"tpep_pickup_datetime\")).alias(\"month\"))"
   ]
  },
  {
   "cell_type": "code",
   "execution_count": 21,
   "metadata": {},
   "outputs": [],
   "source": [
    "hm=pickup_hour.groupBy(\"hour\",\"month\").count()"
   ]
  },
  {
   "cell_type": "code",
   "execution_count": 22,
   "metadata": {},
   "outputs": [
    {
     "name": "stdout",
     "output_type": "stream",
     "text": [
      "hour       0       1       2       3       4       5       6       7       8   \\\n",
      "month                                                                           \n",
      "1      167538  174575  175306  151504  120046  111912  105696   81328   60091   \n",
      "2      189257  209448  222533  195785  156698  148060  142095  113391   77916   \n",
      "3      228761  249957  264555  236659  200263  189579  172825  136289   93826   \n",
      "4      225420  246691  257261  219039  203753  191872  176411  140290   97264   \n",
      "5      221394  238792  253553  231154  197335  191948  177398  146709  101906   \n",
      "6      215049  233095  251161  231885  196907  193477  176295  143994  102816   \n",
      "7      194944  216663  228445  208101  173466  171063  157399  131140   94695   \n",
      "8      194119  210083  224005  198576  172582  164806  152415  123479   88388   \n",
      "9      187793  205441  216531  202600  181184  172689  158746  131025   92771   \n",
      "10     223622  249128  256499  241344  214080  204540  186693  152291  107232   \n",
      "11     200765  213992  222462  207074  183667  177452  160685  127870   84884   \n",
      "12     210634  220603  226308  210061  188877  186378  171472  142434  101227   \n",
      "\n",
      "hour      9   ...     14      15      16      17      18      19      20  \\\n",
      "month         ...                                                          \n",
      "1      42318  ...  36208   74137  101528  109378  119816  129560  142217   \n",
      "2      52125  ...  45378   88971  117704  127011  137778  147695  162714   \n",
      "3      61472  ...  56491  109770  145612  157693  170119  182886  197349   \n",
      "4      63599  ...  53611  101860  135056  154727  172740  188947  205819   \n",
      "5      65739  ...  58705  106025  135436  152985  170346  188608  201969   \n",
      "6      66545  ...  57069  103995  137102  153110  167474  183809  196247   \n",
      "7      62194  ...  49831   83277  116167  132350  148847  162235  178785   \n",
      "8      57477  ...  51306   86708  122067  137076  149923  162064  176854   \n",
      "9      59574  ...  53927   98674  123767  138260  151490  164507  174521   \n",
      "10     71729  ...  55194  105121  139161  156755  173410  187850  198666   \n",
      "11     58514  ...  50033   93402  122717  142012  157282  169505  182198   \n",
      "12     64773  ...  48334   88641  121468  147027  168298  182332  195985   \n",
      "\n",
      "hour       21      22      23  \n",
      "month                          \n",
      "1      147878  163858  174417  \n",
      "2      169213  182878  192429  \n",
      "3      202832  219394  227087  \n",
      "4      207257  223002  228750  \n",
      "5      203614  217340  221874  \n",
      "6      198687  213025  215670  \n",
      "7      183342  190802  194970  \n",
      "8      180931  191921  194604  \n",
      "9      176170  189941  188149  \n",
      "10     200551  213391  221062  \n",
      "11     188067  200401  204881  \n",
      "12     202159  210499  214535  \n",
      "\n",
      "[12 rows x 24 columns]\n"
     ]
    }
   ],
   "source": [
    "hour=hm.toPandas()\n",
    "hour_m=hour.pivot(index='month', columns='hour', values='count')\n",
    "print(hour_m)"
   ]
  },
  {
   "cell_type": "code",
   "execution_count": 15,
   "metadata": {},
   "outputs": [
    {
     "name": "stdout",
     "output_type": "stream",
     "text": [
      "+----+-------+\n",
      "|hour|count  |\n",
      "+----+-------+\n",
      "|2   |2798619|\n",
      "|1   |2668468|\n",
      "|3   |2533782|\n",
      "|23  |2478428|\n",
      "|0   |2459296|\n",
      "|22  |2416452|\n",
      "|21  |2260701|\n",
      "|20  |2213324|\n",
      "|4   |2188858|\n",
      "|5   |2103776|\n",
      "|19  |2049998|\n",
      "|6   |1938130|\n",
      "|18  |1887523|\n",
      "|17  |1708384|\n",
      "|7   |1570240|\n",
      "|16  |1517785|\n",
      "|15  |1140581|\n",
      "|8   |1103016|\n",
      "|9   |726059 |\n",
      "|14  |616087 |\n",
      "|10  |484034 |\n",
      "|11  |319801 |\n",
      "|13  |252388 |\n",
      "|12  |220368 |\n",
      "+----+-------+\n",
      "\n"
     ]
    }
   ],
   "source": [
    "peak_hour=pickup_hour.groupBy(\"hour\").count().sort(col(\"count\").desc())\n",
    "peak_hour.show(24,truncate=False)"
   ]
  },
  {
   "cell_type": "code",
   "execution_count": 8,
   "metadata": {},
   "outputs": [
    {
     "name": "stdout",
     "output_type": "stream",
     "text": [
      "peak hour : 2\n",
      "off-peak hour : 12\n"
     ]
    },
    {
     "data": {
      "image/png": "[encoded data removed]",
      "text/plain": [
       "<Figure size 720x432 with 1 Axes>"
      ]
     },
     "metadata": {
      "needs_background": "light"
     },
     "output_type": "display_data"
    }
   ],
   "source": [
    "import pandas as pd\n",
    "import matplotlib.pyplot as plt\n",
    "peak_hour_pd=peak_hour.sort(\"hour\").toPandas()\n",
    "\n",
    "print(\"peak hour :\",peak_hour_pd.idxmax()[1])\n",
    "print(\"off-peak hour :\",peak_hour_pd.idxmin()[1])\n",
    "ax=peak_hour_pd.plot.bar(x=\"hour\",y=\"count\",rot=0,legend=False,figsize=(10,6))\n",
    "peak_hour_pd.plot.line(\"hour\",ax=ax,color=\"red\",label=\".\")\n",
    "plt.title(\"Pickup Hour Distribution\",fontsize=25)\n",
    "plt.xlabel(\"hour\",fontsize=20)\n",
    "plt.ylabel(\"count\",fontsize=20)\n",
    "plt.grid(axis='y', linewidth = 0.5)\n",
    "plt.show()"
   ]
  },
  {
   "cell_type": "code",
   "execution_count": 15,
   "metadata": {},
   "outputs": [
    {
     "name": "stdout",
     "output_type": "stream",
     "text": [
      "+-----+-------+\n",
      "|month|  count|\n",
      "+-----+-------+\n",
      "|   10|3689460|\n",
      "|    3|3611523|\n",
      "|    4|3601623|\n",
      "|    5|3597229|\n",
      "|    6|3555990|\n",
      "|   12|3414327|\n",
      "|   11|3244894|\n",
      "|    7|3190826|\n",
      "|    9|3172912|\n",
      "|    8|3139900|\n",
      "|    2|2972326|\n",
      "|    1|2465088|\n",
      "+-----+-------+\n",
      "\n"
     ]
    }
   ],
   "source": [
    "peak_month=pickup_hour.groupBy(\"month\").count().sort(col(\"count\").desc())\n",
    "peak_month.show()"
   ]
  },
  {
   "cell_type": "code",
   "execution_count": 21,
   "metadata": {},
   "outputs": [
    {
     "name": "stdout",
     "output_type": "stream",
     "text": [
      "<class 'pyspark.sql.dataframe.DataFrame'>\n"
     ]
    }
   ],
   "source": [
    "print(type(taxi))"
   ]
  },
  {
   "cell_type": "code",
   "execution_count": 20,
   "metadata": {},
   "outputs": [
    {
     "name": "stdout",
     "output_type": "stream",
     "text": [
      "<class 'pandas.core.frame.DataFrame'>\n",
      "peak month : 9\n",
      "off-peak month : 0\n"
     ]
    },
    {
     "data": {
      "image/png": "[encoded data removed]",
      "text/plain": [
       "<Figure size 720x432 with 1 Axes>"
      ]
     },
     "metadata": {
      "needs_background": "light"
     },
     "output_type": "display_data"
    }
   ],
   "source": [
    "peak_month_pd=peak_month.sort(\"month\").toPandas()\n",
    "\n",
    "print(\"peak month :\",peak_month_pd.idxmax()[1])\n",
    "print(\"off-peak month :\",peak_month_pd.idxmin()[1])\n",
    "ax=peak_month_pd.plot.bar(x=\"month\",y=\"count\",rot=0,legend=False,figsize=(10,6))\n",
    "peak_month_pd.plot.line(\"month\",ax=ax,color=\"red\",label=\".\")\n",
    "plt.title(\"Pickup month Distribution\",fontsize=25)\n",
    "plt.xlabel(\"month\",fontsize=20)\n",
    "plt.ylabel(\"count\",fontsize=20)\n",
    "plt.grid(axis='y', linewidth = 0.5)\n",
    "plt.show()"
   ]
  }
 ],
 "metadata": {
  "kernelspec": {
   "display_name": "Python 3",
   "language": "python",
   "name": "python3"
  },
  "language_info": {
   "codemirror_mode": {
    "name": "ipython",
    "version": 3
   },
   "file_extension": ".py",
   "mimetype": "text/x-python",
   "name": "python",
   "nbconvert_exporter": "python",
   "pygments_lexer": "ipython3",
   "version": "3.10.0"
  },
  "orig_nbformat": 4
 },
 "nbformat": 4,
 "nbformat_minor": 2
}
